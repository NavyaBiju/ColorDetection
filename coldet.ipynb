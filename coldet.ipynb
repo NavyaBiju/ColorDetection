{
 "cells": [
  {
   "cell_type": "code",
   "execution_count": 1,
   "id": "7823e4d3",
   "metadata": {},
   "outputs": [],
   "source": [
    "import cv2\n",
    "import numpy as np"
   ]
  },
  {
   "cell_type": "code",
   "execution_count": 2,
   "id": "9c06c9bb",
   "metadata": {},
   "outputs": [],
   "source": [
    "# Define the lower and upper bounds for each color (in HSV color space)\n",
    "color_ranges = {\n",
    "    'red': [(0, 100, 100), (10, 255, 255)],\n",
    "    'green': [(35, 100, 100), (85, 255, 255)],\n",
    "    'blue': [(100, 100, 100), (140, 255, 255)],\n",
    "    'yellow': [(20, 100, 100), (30, 255, 255)],\n",
    "    'orange': [(10, 100, 100), (25, 255, 255)],\n",
    "}"
   ]
  },
  {
   "cell_type": "code",
   "execution_count": 3,
   "id": "aac8f911",
   "metadata": {},
   "outputs": [],
   "source": [
    "# Function to detect a specific color in a frame\n",
    "def detect_color(frame, color_name, lower, upper):\n",
    "    # Convert the frame from BGR to HSV color space\n",
    "    hsv_frame = cv2.cvtColor(frame, cv2.COLOR_BGR2HSV)\n",
    "    # Create a mask to extract the color from the frame\n",
    "    mask = cv2.inRange(hsv_frame, lower, upper)\n",
    "     # Apply a series of morphological operations to clean up the mask\n",
    "    mask = cv2.erode(mask, None, iterations=2)\n",
    "    mask = cv2.dilate(mask, None, iterations=2)\n",
    "\n",
    "    # Find contours in the mask\n",
    "    contours, _ = cv2.findContours(mask.copy(), cv2.RETR_EXTERNAL, cv2.CHAIN_APPROX_SIMPLE)\n",
    "\n",
    "    # Draw a bounding box around the detected color region\n",
    "    for contour in contours:\n",
    "        x, y, w, h = cv2.boundingRect(contour)\n",
    "        cv2.rectangle(frame, (x, y), (x + w, y + h), color_map[color_name], 2)"
   ]
  },
  {
   "cell_type": "code",
   "execution_count": 4,
   "id": "b3a7826c",
   "metadata": {},
   "outputs": [],
   "source": [
    "# Define colors and corresponding BGR values\n",
    "color_map = {\n",
    "    'red': (0, 0, 255),\n",
    "    'green': (0, 255, 0),\n",
    "    'blue': (255, 0, 0),\n",
    "    'yellow': (0, 255, 255),\n",
    "    'orange': (0, 165, 255),\n",
    "}"
   ]
  },
  {
   "cell_type": "code",
   "execution_count": 9,
   "id": "8b98a793",
   "metadata": {},
   "outputs": [],
   "source": [
    "# Capture video from the webcam (change 0 to the video file path if using a file)\n",
    "cap = cv2.VideoCapture(0)\n",
    "\n",
    "while True:\n",
    "    ret, frame = cap.read()\n",
    "\n",
    "    if not ret:\n",
    "        break\n",
    "\n",
    "    # Detect and display each specified color\n",
    "    for color_name, (lower, upper) in color_ranges.items():\n",
    "        detect_color(frame, color_name, np.array(lower), np.array(upper))\n",
    "\n",
    "    # Display the original frame with detected colors\n",
    "    cv2.imshow('Color Detection', frame)\n",
    "\n",
    "    if cv2.waitKey(1) & 0xFF == ord('q'):\n",
    "        break\n",
    "    # Release the video capture and close all OpenCV windows\n",
    "cap.release()\n",
    "cv2.destroyAllWindows()"
   ]
  },
  {
   "cell_type": "code",
   "execution_count": null,
   "id": "7db043be",
   "metadata": {},
   "outputs": [],
   "source": []
  },
  {
   "cell_type": "code",
   "execution_count": null,
   "id": "a3ed7cdd",
   "metadata": {},
   "outputs": [],
   "source": []
  }
 ],
 "metadata": {
  "kernelspec": {
   "display_name": "Python 3 (ipykernel)",
   "language": "python",
   "name": "python3"
  },
  "language_info": {
   "codemirror_mode": {
    "name": "ipython",
    "version": 3
   },
   "file_extension": ".py",
   "mimetype": "text/x-python",
   "name": "python",
   "nbconvert_exporter": "python",
   "pygments_lexer": "ipython3",
   "version": "3.11.4"
  }
 },
 "nbformat": 4,
 "nbformat_minor": 5
}
